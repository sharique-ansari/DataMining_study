{
  "nbformat": 4,
  "nbformat_minor": 0,
  "metadata": {
    "colab": {
      "name": "ScmpHW1.ipynb",
      "provenance": [],
      "include_colab_link": true
    },
    "kernelspec": {
      "name": "python3",
      "display_name": "Python 3"
    }
  },
  "cells": [
    {
      "cell_type": "markdown",
      "metadata": {
        "id": "view-in-github",
        "colab_type": "text"
      },
      "source": [
        "<a href=\"https://colab.research.google.com/github/sharique-ansari/DataMining_study/blob/master/ScmpHW1.ipynb\" target=\"_parent\"><img src=\"https://colab.research.google.com/assets/colab-badge.svg\" alt=\"Open In Colab\"/></a>"
      ]
    },
    {
      "cell_type": "markdown",
      "metadata": {
        "id": "nwFQaYj4Fk1O",
        "colab_type": "text"
      },
      "source": [
        "##Sharique Ansari\n",
        "###2016249\n",
        "SCMP - Homework 1"
      ]
    },
    {
      "cell_type": "code",
      "metadata": {
        "id": "2aSdcezqjZ2c",
        "colab_type": "code",
        "colab": {}
      },
      "source": [
        "import matplotlib.pyplot as plt\n",
        "import numpy as np\n",
        "import pylab \n",
        "import scipy\n",
        "import math"
      ],
      "execution_count": 0,
      "outputs": []
    },
    {
      "cell_type": "markdown",
      "metadata": {
        "id": "eNnqbJL9dWS6",
        "colab_type": "text"
      },
      "source": [
        "# Solution to question 1\n",
        "original function is $(x-2)^9$ \n",
        "\n",
        "approximated function is $x^9 - 18x^8+ 144x^7-672x^6+2016x^5-4032x^4+5376x^3-4608x^2+2304x-512$"
      ]
    },
    {
      "cell_type": "code",
      "metadata": {
        "id": "AhTgInwBjlh_",
        "colab_type": "code",
        "colab": {}
      },
      "source": [
        "def origfunc(x):\n",
        "  return (x-2)**9\n"
      ],
      "execution_count": 0,
      "outputs": []
    },
    {
      "cell_type": "code",
      "metadata": {
        "id": "wMcU1JO7kO25",
        "colab_type": "code",
        "colab": {}
      },
      "source": [
        "def expfunc(x):\n",
        "  temp = x**9 - 18*x**8 +144*x**7 -672*x**6 + 2016*x**5 - 4032*x**4 + 5376*x**3 - 4608*x**2 + 2304*x -512\n",
        "  return temp\n"
      ],
      "execution_count": 0,
      "outputs": []
    },
    {
      "cell_type": "code",
      "metadata": {
        "id": "p2OdZV5amExO",
        "colab_type": "code",
        "colab": {}
      },
      "source": [
        "x = np.arange(1.920,2.081,0.001)\n",
        "\n"
      ],
      "execution_count": 0,
      "outputs": []
    },
    {
      "cell_type": "code",
      "metadata": {
        "id": "pagapmSL4NTm",
        "colab_type": "code",
        "outputId": "7d74f671-41cb-479d-af9f-08f69c44e10d",
        "colab": {
          "base_uri": "https://localhost:8080/",
          "height": 290
        }
      },
      "source": [
        "pylab.plot(x, origfunc(x), '-b', label='original')\n",
        "pylab.plot(x, expfunc(x), '-r', label='expected')\n",
        "pylab.legend(loc='upper left')\n",
        "pylab.ylabel(\"f (x)\")\n",
        "pylab.xlabel(\"x\")\n",
        "pylab.show()"
      ],
      "execution_count": 101,
      "outputs": [
        {
          "output_type": "display_data",
          "data": {
            "image/png": "[encoded data removed]",
            "text/plain": [
              "<Figure size 432x288 with 1 Axes>"
            ]
          },
          "metadata": {
            "tags": []
          }
        }
      ]
    },
    {
      "cell_type": "code",
      "metadata": {
        "id": "PaaUtOmToVOV",
        "colab_type": "code",
        "colab": {}
      },
      "source": [
        ""
      ],
      "execution_count": 0,
      "outputs": []
    },
    {
      "cell_type": "markdown",
      "metadata": {
        "id": "9i8HOqjnaYOG",
        "colab_type": "text"
      },
      "source": [
        "# Solution to question 2\n",
        "real function is n! \n",
        "\n",
        "approximated function is $\\sqrt{2*pi*n}*(n/e)^n$\n",
        "\n",
        "\n",
        "\n",
        "\n",
        "\n",
        "---\n",
        "\n"
      ]
    },
    {
      "cell_type": "code",
      "metadata": {
        "id": "ibtx_wTrbEHe",
        "colab_type": "code",
        "colab": {}
      },
      "source": [
        "def approxfact(x):\n",
        "  return math.sqrt(2*math.pi*x)*(math.pow(x/math.e,x))\n"
      ],
      "execution_count": 0,
      "outputs": []
    },
    {
      "cell_type": "code",
      "metadata": {
        "id": "9cMDkpKFeVDR",
        "colab_type": "code",
        "colab": {}
      },
      "source": [
        "x = np.arange(1, 11)"
      ],
      "execution_count": 0,
      "outputs": []
    },
    {
      "cell_type": "code",
      "metadata": {
        "id": "ImT1xuHDfB2O",
        "colab_type": "code",
        "colab": {}
      },
      "source": [
        "def abserror(x):\n",
        "  return (math.factorial(x) - approxfact(x))\n",
        "abs2 = np.vectorize(abserror)\n",
        "  "
      ],
      "execution_count": 0,
      "outputs": []
    },
    {
      "cell_type": "code",
      "metadata": {
        "id": "hLasldx-fWgd",
        "colab_type": "code",
        "colab": {}
      },
      "source": [
        "def relerror(x):\n",
        "  return abserror(x)/math.factorial(x)\n",
        "rel2 = np.vectorize(relerror)"
      ],
      "execution_count": 0,
      "outputs": []
    },
    {
      "cell_type": "code",
      "metadata": {
        "id": "salKEcRwNBJ1",
        "colab_type": "code",
        "colab": {}
      },
      "source": [
        "fac = np.vectorize(math.factorial)\n",
        "approx = np.vectorize(approxfact)"
      ],
      "execution_count": 0,
      "outputs": []
    },
    {
      "cell_type": "code",
      "metadata": {
        "id": "TfpDr0QNPgDz",
        "colab_type": "code",
        "outputId": "6a745c47-b26e-4a1a-a1df-1b3c711ea1ea",
        "colab": {
          "base_uri": "https://localhost:8080/",
          "height": 266
        }
      },
      "source": [
        "pylab.plot(x,rel2(x),'ro--',label = \"relative error\")\n",
        "pylab.legend(loc='upper right')\n",
        "pylab.show()\n",
        "\n"
      ],
      "execution_count": 109,
      "outputs": [
        {
          "output_type": "display_data",
          "data": {
            "image/png": "[encoded data removed]",
            "text/plain": [
              "<Figure size 432x288 with 1 Axes>"
            ]
          },
          "metadata": {
            "tags": []
          }
        }
      ]
    },
    {
      "cell_type": "code",
      "metadata": {
        "id": "Nkwe8ysPgkRv",
        "colab_type": "code",
        "outputId": "4722aabf-94ad-4b22-dc44-b8bc076c8604",
        "colab": {
          "base_uri": "https://localhost:8080/",
          "height": 265
        }
      },
      "source": [
        "pylab.plot(x, abs2(x), 'bo--', label='Absolute Error')\n",
        "pylab.plot(x, rel2(x), 'r', label='Relative Error')\n",
        "pylab.legend(loc='upper left')\n",
        "pylab.show()"
      ],
      "execution_count": 110,
      "outputs": [
        {
          "output_type": "display_data",
          "data": {
            "image/png": "[encoded data removed]",
            "text/plain": [
              "<Figure size 432x288 with 1 Axes>"
            ]
          },
          "metadata": {
            "tags": []
          }
        }
      ]
    },
    {
      "cell_type": "markdown",
      "metadata": {
        "id": "P0-xtf9Rh9fR",
        "colab_type": "text"
      },
      "source": [
        "# Solution to question 4\n"
      ]
    },
    {
      "cell_type": "markdown",
      "metadata": {
        "id": "SeOKTX4RjUwm",
        "colab_type": "text"
      },
      "source": [
        ""
      ]
    },
    {
      "cell_type": "code",
      "metadata": {
        "id": "XbHrF-l8lPwa",
        "colab_type": "code",
        "colab": {}
      },
      "source": [
        "def differential(x,func,h):\n",
        "  num = func(x+h) - func(x)\n",
        "  den = h\n",
        "  return num/den"
      ],
      "execution_count": 0,
      "outputs": []
    },
    {
      "cell_type": "markdown",
      "metadata": {
        "id": "ezfw0KlK_IMX",
        "colab_type": "text"
      },
      "source": [
        "Testing our function for $tan(x)$ function at $x=1$"
      ]
    },
    {
      "cell_type": "code",
      "metadata": {
        "id": "DBpQ3IEzmC5N",
        "colab_type": "code",
        "colab": {
          "base_uri": "https://localhost:8080/",
          "height": 51
        },
        "outputId": "cffa9e9a-ba46-4784-d0e2-454b2bd941ad"
      },
      "source": [
        "print(differential(1,math.tan,1e-10))\n",
        "print(1/math.cos(1)**2) "
      ],
      "execution_count": 112,
      "outputs": [
        {
          "output_type": "stream",
          "text": [
            "3.425517647315246\n",
            "3.425518820814759\n"
          ],
          "name": "stdout"
        }
      ]
    },
    {
      "cell_type": "code",
      "metadata": {
        "id": "JcZ4CV9exntY",
        "colab_type": "code",
        "colab": {}
      },
      "source": [
        "minvalues = np.geomspace(1, 1e-16, num=17)\n",
        "output = []\n",
        "for min in minvalues:\n",
        "  approxvalue = differential(1,math.tan,min)-(1/math.cos(1)**2)\n",
        "  output.append(abs(approxvalue))\n"
      ],
      "execution_count": 0,
      "outputs": []
    },
    {
      "cell_type": "code",
      "metadata": {
        "id": "Yc2ZEKkrAOQB",
        "colab_type": "code",
        "colab": {
          "base_uri": "https://localhost:8080/",
          "height": 88
        },
        "outputId": "9c4c8dd6-55ed-4077-dffd-5e0bc092abde"
      },
      "source": [
        "print(minvalues)\n",
        "print(output)"
      ],
      "execution_count": 117,
      "outputs": [
        {
          "output_type": "stream",
          "text": [
            "[1.e+00 1.e-01 1.e-02 1.e-03 1.e-04 1.e-05 1.e-06 1.e-07 1.e-08 1.e-09\n",
            " 1.e-10 1.e-11 1.e-12 1.e-13 1.e-14 1.e-15 1.e-16]\n",
            "[7.16796640873118, 0.6480005051227411, 0.05431113565204759, 0.005344396497581894, 0.0005335874671064111, 5.3350263768514594e-05, 5.334627857234153e-06, 5.340234987549763e-07, 2.554135347665465e-08, 1.5876811643167343e-07, 1.1734995131185144e-06, 1.4496175808620393e-05, 0.00018534396862390778, 0.0038114589200266558, 0.006031904969276969, 0.3492394629107727, 3.425518820814759]\n"
          ],
          "name": "stdout"
        }
      ]
    },
    {
      "cell_type": "code",
      "metadata": {
        "id": "hCwSyuzQywkt",
        "colab_type": "code",
        "colab": {
          "base_uri": "https://localhost:8080/",
          "height": 283
        },
        "outputId": "ec476fe8-4a1c-41f2-ef6a-a05eea7ff3d8"
      },
      "source": [
        "pylab.loglog(minvalues,output,'bo',label = \"absolute error\")\n",
        "pylab.legend(loc='upper center')\n",
        "pylab.ylabel(\"log(error)\")\n",
        "pylab.xlabel(\"log(h)\")\n",
        "pylab.show()"
      ],
      "execution_count": 118,
      "outputs": [
        {
          "output_type": "display_data",
          "data": {
            "image/png": "[encoded data removed]",
            "text/plain": [
              "<Figure size 432x288 with 1 Axes>"
            ]
          },
          "metadata": {
            "tags": []
          }
        }
      ]
    },
    {
      "cell_type": "markdown",
      "metadata": {
        "id": "bKR0Pd52AuKW",
        "colab_type": "text"
      },
      "source": [
        "####Yes,\n",
        "there is a minimum value for the magnitude of error of $2.554135347665465e^-8$ at $1e^-8$"
      ]
    },
    {
      "cell_type": "code",
      "metadata": {
        "id": "oxQSvLwV87XJ",
        "colab_type": "code",
        "colab": {}
      },
      "source": [
        "def differential2(x,function,h):\n",
        "  num = function(x+h) - function(x-h)\n",
        "  den = 2*h\n",
        "  return num/den"
      ],
      "execution_count": 0,
      "outputs": []
    },
    {
      "cell_type": "code",
      "metadata": {
        "id": "zCUagsinCP4N",
        "colab_type": "code",
        "colab": {}
      },
      "source": [
        "minvalues = np.geomspace(1, 1e-16, num=17)\n",
        "output = []\n",
        "for min in minvalues:\n",
        "  approxvalue = differential2(1,math.tan,min)-(1/math.cos(1)**2)\n",
        "  output.append(abs(approxvalue))"
      ],
      "execution_count": 0,
      "outputs": []
    },
    {
      "cell_type": "code",
      "metadata": {
        "id": "3xGqrwcDCr_I",
        "colab_type": "code",
        "colab": {
          "base_uri": "https://localhost:8080/",
          "height": 122
        },
        "outputId": "7efccfb0-c905-433b-b333-d888fffa039b"
      },
      "source": [
        "print(np.vectorize(math.log)(minvalues))\n",
        "print(output)"
      ],
      "execution_count": 127,
      "outputs": [
        {
          "output_type": "stream",
          "text": [
            "[  0.          -2.30258509  -4.60517019  -6.90775528  -9.21034037\n",
            " -11.51292546 -13.81551056 -16.11809565 -18.42068074 -20.72326584\n",
            " -23.02585093 -25.32843602 -27.63102112 -29.93360621 -32.2361913\n",
            " -34.53877639 -36.84136149]\n",
            "[4.518038752445518, 0.09748837767680651, 0.0009453392686498141, 9.450528699606053e-06, 9.450396687427087e-08, 9.499130371182218e-10, 1.0479839218646703e-10, 6.2239102760486276e-12, 3.3368929841515182e-09, 4.774581396915778e-08, 6.327648849335787e-08, 3.3939455623688275e-06, 7.432166616139213e-05, 0.0015910128707763427, 0.006031904969276969, 0.23821716044825703, 1.205072771564446]\n"
          ],
          "name": "stdout"
        }
      ]
    },
    {
      "cell_type": "code",
      "metadata": {
        "id": "h-hACdVpClUV",
        "colab_type": "code",
        "colab": {
          "base_uri": "https://localhost:8080/",
          "height": 283
        },
        "outputId": "2f5e475b-cef4-4acc-d832-fcdd3f0c30c4"
      },
      "source": [
        "pylab.loglog(minvalues,output,'bo',label = \"absolute error\")\n",
        "pylab.legend(loc='upper center')\n",
        "pylab.ylabel(\"log(error)\")\n",
        "pylab.xlabel(\"log(h)\")\n",
        "pylab.show()"
      ],
      "execution_count": 121,
      "outputs": [
        {
          "output_type": "display_data",
          "data": {
            "image/png": "[encoded data removed]",
            "text/plain": [
              "<Figure size 432x288 with 1 Axes>"
            ]
          },
          "metadata": {
            "tags": []
          }
        }
      ]
    },
    {
      "cell_type": "markdown",
      "metadata": {
        "id": "Ct6J9ZD4FVZy",
        "colab_type": "text"
      },
      "source": [
        "This one too has a minimum magnitude value of error at a given value of h"
      ]
    },
    {
      "cell_type": "code",
      "metadata": {
        "id": "gXcRbyZkCpIb",
        "colab_type": "code",
        "colab": {}
      },
      "source": [
        ""
      ],
      "execution_count": 0,
      "outputs": []
    }
  ]
}